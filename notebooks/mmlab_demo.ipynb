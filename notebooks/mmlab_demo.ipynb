{
 "cells": [
  {
   "metadata": {
    "jupyter": {
     "is_executing": true
    }
   },
   "cell_type": "code",
   "source": [
    "import os\n",
    "from mmdet.apis import DetInferencer\n",
    "\n",
    "while os.getcwd().split('/')[-1] != 'mmpose-synthetic-tune':\n",
    "    os.chdir('..')"
   ],
   "id": "66fe9822e1acac4c",
   "outputs": [],
   "execution_count": null
  },
  {
   "metadata": {},
   "cell_type": "markdown",
   "source": "### MMDet Inference",
   "id": "81de10432c84c76a"
  },
  {
   "metadata": {},
   "cell_type": "code",
   "source": [
    "det_inferencer_options = {  #rtmdet\n",
    "    \"model\": 'mmdetection/configs/rtmdet/rtmdet_l_swin_b_p6_4xb16-100e_coco.py',\n",
    "    \"weights\": 'checkpoints/rtmdet_l_swin_b_p6_4xb16-100e_coco-a1486b6f.pth',\n",
    "    \"device\": \"cuda:0\",\n",
    "}\n",
    "\n",
    "inferencer = DetInferencer(**det_inferencer_options)\n",
    "\n",
    "res = inferencer(\n",
    "    '/home/galiold/projects/datasets/frames/8/8_img00045.png',\n",
    "    out_dir='notebooks/output',\n",
    ")"
   ],
   "id": "d78d825860732645",
   "outputs": [],
   "execution_count": null
  }
 ],
 "metadata": {
  "kernelspec": {
   "display_name": "Python 3",
   "language": "python",
   "name": "python3"
  },
  "language_info": {
   "codemirror_mode": {
    "name": "ipython",
    "version": 2
   },
   "file_extension": ".py",
   "mimetype": "text/x-python",
   "name": "python",
   "nbconvert_exporter": "python",
   "pygments_lexer": "ipython2",
   "version": "2.7.6"
  }
 },
 "nbformat": 4,
 "nbformat_minor": 5
}
