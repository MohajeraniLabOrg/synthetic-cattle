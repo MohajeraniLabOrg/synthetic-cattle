{
 "cells": [
  {
   "cell_type": "code",
   "execution_count": 2,
   "metadata": {},
   "outputs": [],
   "source": [
    "import json\n",
    "from pycocotools.coco import COCO\n",
    "\n",
    "def filter_annotations_by_filename(annotation_file, output_file, filenames_to_keep):\n",
    "    # Load the COCO annotations\n",
    "    coco = COCO(annotation_file)\n",
    "    \n",
    "    # Create a new dictionary to store filtered annotations\n",
    "    filtered_annotations = {\n",
    "        \"info\": coco.dataset.get(\"info\", {}),\n",
    "        \"licenses\": coco.dataset.get(\"licenses\", []),\n",
    "        \"images\": [],\n",
    "        \"annotations\": [],\n",
    "        \"categories\": coco.dataset.get(\"categories\", [])\n",
    "    }\n",
    "    \n",
    "    # Get image IDs for the filenames in the provided list\n",
    "    image_ids_to_keep = []\n",
    "    for image in coco.dataset['images']:\n",
    "        if image['file_name'] in filenames_to_keep:\n",
    "            filtered_annotations['images'].append(image)\n",
    "            image_ids_to_keep.append(image['id'])\n",
    "    \n",
    "    # Filter annotations based on the filtered image IDs\n",
    "    for annotation in coco.dataset['annotations']:\n",
    "        if annotation['image_id'] in image_ids_to_keep:\n",
    "            filtered_annotations['annotations'].append(annotation)\n",
    "\n",
    "    \n",
    "    # Save the filtered annotations to a new JSON file\n",
    "    with open(output_file, 'w') as outfile:\n",
    "        json.dump(filtered_annotations, outfile)\n",
    "\n"
   ]
  },
  {
   "cell_type": "code",
   "execution_count": 9,
   "metadata": {},
   "outputs": [
    {
     "name": "stdout",
     "output_type": "stream",
     "text": [
      "loading annotations into memory...\n",
      "Done (t=0.01s)\n",
      "creating index...\n",
      "index created!\n"
     ]
    }
   ],
   "source": [
    "# Example usage\n",
    "import os\n",
    "annotation_file = '../datasets/annotations/20kp-synthetic606.json'\n",
    "output_file = '../datasets/annotations/20kp-synthetic-varied.json'\n",
    "filenames_to_keep = os.listdir('../datasets/20kp-synthetic-varied-data')  # Replace with your list of filenames\n",
    "\n",
    "filter_annotations_by_filename(annotation_file, output_file, filenames_to_keep)\n"
   ]
  },
  {
   "cell_type": "code",
   "execution_count": 4,
   "metadata": {},
   "outputs": [
    {
     "name": "stdout",
     "output_type": "stream",
     "text": [
      "loading annotations into memory...\n",
      "Done (t=0.00s)\n",
      "creating index...\n",
      "index created!\n"
     ]
    },
    {
     "data": {
      "text/plain": [
       "42"
      ]
     },
     "execution_count": 4,
     "metadata": {},
     "output_type": "execute_result"
    }
   ],
   "source": [
    "coco_dt = COCO('../datasets/annotations/20kp-combined-val.json')\n",
    "len(coco_dt.imgs)"
   ]
  }
 ],
 "metadata": {
  "kernelspec": {
   "display_name": "base",
   "language": "python",
   "name": "python3"
  },
  "language_info": {
   "codemirror_mode": {
    "name": "ipython",
    "version": 3
   },
   "file_extension": ".py",
   "mimetype": "text/x-python",
   "name": "python",
   "nbconvert_exporter": "python",
   "pygments_lexer": "ipython3",
   "version": "3.11.9"
  }
 },
 "nbformat": 4,
 "nbformat_minor": 2
}
