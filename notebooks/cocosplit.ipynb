{
 "cells": [
  {
   "cell_type": "code",
   "execution_count": 6,
   "id": "initial_id",
   "metadata": {
    "ExecuteTime": {
     "end_time": "2024-07-31T06:52:50.847917Z",
     "start_time": "2024-07-31T06:52:50.835944Z"
    },
    "collapsed": true
   },
   "outputs": [],
   "source": [
    "import json\n",
    "import random"
   ]
  },
  {
   "cell_type": "code",
   "execution_count": 7,
   "id": "c45dcaa710731b82",
   "metadata": {
    "ExecuteTime": {
     "end_time": "2024-07-31T06:49:04.509640Z",
     "start_time": "2024-07-31T06:49:04.497135Z"
    }
   },
   "outputs": [],
   "source": [
    "with open('../datasets/annotations/20kp-synthetic-varied.json') as f:\n",
    "    dataset = json.load(f)\n",
    "    \n",
    "data_idx = list(range(len(dataset['images'])))\n",
    "random.shuffle(data_idx)"
   ]
  },
  {
   "cell_type": "code",
   "execution_count": 8,
   "id": "5b252004",
   "metadata": {},
   "outputs": [],
   "source": [
    "val_percentage = 20\n",
    "test_percentage = 0\n",
    "\n",
    "val_size = len(data_idx) * val_percentage // 100\n",
    "test_size = len(data_idx) * test_percentage // 100"
   ]
  },
  {
   "cell_type": "code",
   "execution_count": 9,
   "id": "50bb1230154564c8",
   "metadata": {
    "ExecuteTime": {
     "end_time": "2024-07-31T07:06:49.029157Z",
     "start_time": "2024-07-31T07:06:49.016141Z"
    }
   },
   "outputs": [],
   "source": [
    "val_set = {\n",
    "    'categories': dataset['categories'],\n",
    "    'images': [dataset['images'][idx] for idx in data_idx[:val_size]],\n",
    "    'annotations': [dataset['annotations'][idx] for idx in data_idx[:val_size]],\n",
    "}\n",
    "\n",
    "test_set = {\n",
    "    'categories': dataset['categories'],\n",
    "    'images': [dataset['images'][idx] for idx in data_idx[val_size:val_size+test_size]],\n",
    "    'annotations': [dataset['annotations'][idx] for idx in data_idx[val_size:val_size+test_size]],\n",
    "}\n",
    "\n",
    "train_set = {\n",
    "    'categories': dataset['categories'],\n",
    "    'images': [dataset['images'][idx] for idx in data_idx[val_size+test_size:]],\n",
    "    'annotations': [dataset['annotations'][idx] for idx in data_idx[val_size+test_size:]],\n",
    "}"
   ]
  },
  {
   "cell_type": "code",
   "execution_count": 10,
   "id": "9818aa001c40b94d",
   "metadata": {
    "ExecuteTime": {
     "end_time": "2024-07-31T07:07:09.037891Z",
     "start_time": "2024-07-31T07:07:09.023876Z"
    }
   },
   "outputs": [],
   "source": [
    "with open('../datasets/annotations/20kp-synthetic-varied-train.json', 'w') as f:\n",
    "    json.dump(train_set, f)\n",
    "    \n",
    "with open('../datasets/annotations/20kp-synthetic-varied-val.json', 'w') as f:\n",
    "    json.dump(val_set, f)\n",
    "    \n",
    "with open('../datasets/annotations/20kp-synthetic-varied-test.json', 'w') as f:\n",
    "    json.dump(test_set, f)"
   ]
  },
  {
   "cell_type": "markdown",
   "id": "122538d3",
   "metadata": {},
   "source": [
    "### Cross Validation"
   ]
  },
  {
   "cell_type": "code",
   "execution_count": 23,
   "id": "74eef42c",
   "metadata": {},
   "outputs": [],
   "source": [
    "import json\n",
    "import random\n",
    "\n",
    "# dataset_name = 'real-simillar'\n",
    "dataset_name = 'synthetic-varied'\n",
    "val_percentage = 20\n",
    "folds = 100 // val_percentage\n",
    "\n",
    "with open(f'../datasets/annotations/20kp-{dataset_name}.json') as f:\n",
    "    dataset = json.load(f)\n",
    "\n",
    "data_idx = list(range(len(dataset['images'])))\n",
    "random.shuffle(data_idx)\n",
    "val_size = len(data_idx) * val_percentage // 100\n",
    "\n",
    "for i in range(folds):\n",
    "    val_idx = data_idx[i*val_size:(i+1)*val_size]\n",
    "\n",
    "    val_set = {\n",
    "        'categories': dataset['categories'],\n",
    "        'images': [dataset['images'][idx] for idx in val_idx],\n",
    "        'annotations': [dataset['annotations'][idx] for idx in val_idx],\n",
    "    }\n",
    "\n",
    "    train_idx = data_idx[0:i*val_size]\n",
    "    train_idx.extend(data_idx[(i+1)*val_size:])\n",
    "\n",
    "    train_set = {\n",
    "        'categories': dataset['categories'],\n",
    "        'images': [dataset['images'][idx] for idx in train_idx],\n",
    "        'annotations': [dataset['annotations'][idx] for idx in train_idx],\n",
    "    }\n",
    "\n",
    "    with open(f'../datasets/annotations/20kp-{dataset_name}-train-fold-{i}.json', 'w') as f:\n",
    "        json.dump(train_set, f)\n",
    "    \n",
    "    with open(f'../datasets/annotations/20kp-{dataset_name}-val-fold-{i}.json', 'w') as f:\n",
    "        json.dump(val_set, f)\n"
   ]
  }
 ],
 "metadata": {
  "kernelspec": {
   "display_name": "Python 3",
   "language": "python",
   "name": "python3"
  },
  "language_info": {
   "codemirror_mode": {
    "name": "ipython",
    "version": 3
   },
   "file_extension": ".py",
   "mimetype": "text/x-python",
   "name": "python",
   "nbconvert_exporter": "python",
   "pygments_lexer": "ipython3",
   "version": "3.11.9"
  }
 },
 "nbformat": 4,
 "nbformat_minor": 5
}
